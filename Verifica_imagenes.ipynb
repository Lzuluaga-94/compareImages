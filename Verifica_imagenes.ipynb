{
 "cells": [
  {
   "cell_type": "code",
   "execution_count": 1,
   "metadata": {},
   "outputs": [],
   "source": [
    "import numpy as np\n",
    "import cv2\n",
    "import glob"
   ]
  },
  {
   "cell_type": "code",
   "execution_count": 2,
   "metadata": {},
   "outputs": [],
   "source": [
    "original = cv2.imread(\"original_golden_bridge.jpg\")\n",
    "\n",
    "#Sift\n",
    "sift = cv2.xfeatures2d.SIFT_create()\n",
    "kp_1, desc_1 = sift.detectAndCompute(original, None)\n",
    "\n",
    "index_params = dict(algorithm=0, trees=5)\n",
    "search_params= dict()\n",
    "flann = cv2.FlannBasedMatcher(index_params, search_params)\n",
    "\n",
    "#Cargar todas las imágenes\n",
    "all_images_to_compare = []\n",
    "titles = []\n",
    "for f in glob.iglob(\"images/*\"):\n",
    "    image = cv2.imread(f)\n",
    "    titles.append(f)\n",
    "    all_images_to_compare.append(image)"
   ]
  },
  {
   "cell_type": "code",
   "execution_count": 3,
   "metadata": {},
   "outputs": [],
   "source": [
    "#1 Verificar si dos imagenes son iguales"
   ]
  },
  {
   "cell_type": "code",
   "execution_count": 4,
   "metadata": {},
   "outputs": [],
   "source": [
    "#Revisar tamaño y canales (RGB)\n",
    "#Primeros dos valores son el tamaño de la imagen, el tercero la escala de colores (RGB)"
   ]
  },
  {
   "cell_type": "code",
   "execution_count": 5,
   "metadata": {},
   "outputs": [
    {
     "name": "stdout",
     "output_type": "stream",
     "text": [
      "Titulo: images\\Arte1.jpg\n",
      "Porcentaje de similitud: 0%\n",
      "\n",
      "Titulo: images\\Arte2.jpg\n",
      "Porcentaje de similitud: 0%\n",
      "\n",
      "Las imagenes tienen el mismo tamaño y canales RGB\n",
      "762266\n",
      "Titulo: images\\black_and_white.jpg\n",
      "Porcentaje de similitud: 68%\n",
      "\n",
      "Las imagenes tienen el mismo tamaño y canales RGB\n",
      "20\n",
      "Titulo: images\\blue_filter.jpg\n",
      "Porcentaje de similitud: 89%\n",
      "\n",
      "Las imagenes tienen el mismo tamaño y canales RGB\n",
      "931657\n",
      "Titulo: images\\blurred.jpg\n",
      "Porcentaje de similitud: 38%\n",
      "\n",
      "Las imagenes tienen el mismo tamaño y canales RGB\n",
      "497484\n",
      "Titulo: images\\cartoonized.jpg\n",
      "Porcentaje de similitud: 46%\n",
      "\n",
      "Titulo: images\\different-golden-gate-bridge.jpg\n",
      "Porcentaje de similitud: 0%\n",
      "\n",
      "Las imagenes tienen el mismo tamaño y canales RGB\n",
      "0\n",
      "Similaridad: 100% (Las imagenes son completamente iguales)\n",
      "Titulo: images\\duplicate.jpg\n",
      "Porcentaje de similitud: 100%\n",
      "\n",
      "Las imagenes tienen el mismo tamaño y canales RGB\n",
      "6635\n",
      "Titulo: images\\exposured.jpg\n",
      "Porcentaje de similitud: 35%\n",
      "\n",
      "Titulo: images\\george-washington-bridge.jpg\n",
      "Porcentaje de similitud: 0%\n",
      "\n",
      "Las imagenes tienen el mismo tamaño y canales RGB\n",
      "606208\n",
      "Titulo: images\\mixed_colors.jpg\n",
      "Porcentaje de similitud: 68%\n",
      "\n",
      "Las imagenes tienen el mismo tamaño y canales RGB\n",
      "1931941\n",
      "Titulo: images\\old_photo.jpg\n",
      "Porcentaje de similitud: 35%\n",
      "\n",
      "Las imagenes tienen el mismo tamaño y canales RGB\n",
      "0\n",
      "Similaridad: 100% (Las imagenes son completamente iguales)\n",
      "Titulo: images\\original_golden_bridge.jpg\n",
      "Porcentaje de similitud: 100%\n",
      "\n",
      "Las imagenes tienen el mismo tamaño y canales RGB\n",
      "24802\n",
      "Titulo: images\\overlay.jpg\n",
      "Porcentaje de similitud: 45%\n",
      "\n",
      "Titulo: images\\portion_of_image.jpg\n",
      "Porcentaje de similitud: 90%\n",
      "\n",
      "Titulo: images\\resized.jpg\n",
      "Porcentaje de similitud: 44%\n",
      "\n",
      "Titulo: images\\rotated.jpg\n",
      "Porcentaje de similitud: 83%\n",
      "\n",
      "Las imagenes tienen el mismo tamaño y canales RGB\n",
      "846213\n",
      "Titulo: images\\sharpened.jpg\n",
      "Porcentaje de similitud: 47%\n",
      "\n",
      "Las imagenes tienen el mismo tamaño y canales RGB\n",
      "1881602\n",
      "Titulo: images\\sunburst.jpg\n",
      "Porcentaje de similitud: 7%\n",
      "\n",
      "Las imagenes tienen el mismo tamaño y canales RGB\n",
      "672684\n",
      "Titulo: images\\textured.jpg\n",
      "Porcentaje de similitud: 49%\n",
      "\n"
     ]
    }
   ],
   "source": [
    "for image_to_compare, title in zip(all_images_to_compare, titles):\n",
    "    #Verificamos si tienen el mismo tamaño\n",
    "    if (original.shape == image_to_compare.shape):\n",
    "        print(\"Las imagenes tienen el mismo tamaño y canales RGB\")\n",
    "        difference = cv2.subtract(original, image_to_compare)\n",
    "\n",
    "        b,g,r = cv2.split(difference)\n",
    "\n",
    "        print (cv2.countNonZero(b))\n",
    "        if cv2.countNonZero(b) == 0 and cv2.countNonZero(g) == 0 and cv2.countNonZero(r) == 0:\n",
    "            print(\"Similaridad: 100% (Las imagenes son completamente iguales)\")\n",
    "        #else:\n",
    "            #print(\"Las imagenes son diferentes\")\n",
    "\n",
    "    #Verificamos similaridad entre las imagenes\n",
    "    kp_2, desc_2 = sift.detectAndCompute(image_to_compare, None)\n",
    "\n",
    "\n",
    "\n",
    "    matches = flann.knnMatch(desc_1, desc_2, k=2)\n",
    "\n",
    "    good_points = []\n",
    "    for m, n in matches:\n",
    "        if m.distance < 0.6*n.distance:\n",
    "            good_points.append(m)\n",
    "\n",
    "    number_keypoints = 0\n",
    "    if len(kp_1) <= len(kp_2):\n",
    "        number_keypoints = len(kp_1)\n",
    "    else:\n",
    "        number_keypoints = len(kp_2)\n",
    "\n",
    "    print(\"Titulo: \" + title)\n",
    "    percentage_similarity = len(good_points) / number_keypoints * 100\n",
    "    print(\"Porcentaje de similitud: \"+ str(int(percentage_similarity)) + '%\\n')\n",
    "\n",
    "    #result = cv2.drawMatches(original, kp_1, image_to_compare, kp_2, good_points, None)\n",
    "    #cv2.imshow(\"Result\", cv2.resize(result, None, fx=0.3, fy=0.4))\n",
    "    #cv2.imwrite(\"feature_matching.jpg\", result)  \n",
    "    #cv2.imshow(\"Original\", cv2.resize(original, None, fx=0.3, fy=0.4))\n",
    "    #cv2.imshow(\"Image to compare\", cv2.resize(image_to_compare, None, fx=0.3, fy=0.4))"
   ]
  },
  {
   "cell_type": "code",
   "execution_count": 25,
   "metadata": {},
   "outputs": [
    {
     "name": "stdout",
     "output_type": "stream",
     "text": [
      "0\n"
     ]
    }
   ],
   "source": []
  },
  {
   "cell_type": "code",
   "execution_count": null,
   "metadata": {},
   "outputs": [],
   "source": [
    "\n",
    "#cv2.waitKey(0)\n",
    "#cv2.destroyAllWindows()"
   ]
  },
  {
   "cell_type": "code",
   "execution_count": null,
   "metadata": {},
   "outputs": [],
   "source": []
  }
 ],
 "metadata": {
  "kernelspec": {
   "display_name": "Python 3",
   "language": "python",
   "name": "python3"
  },
  "language_info": {
   "codemirror_mode": {
    "name": "ipython",
    "version": 3
   },
   "file_extension": ".py",
   "mimetype": "text/x-python",
   "name": "python",
   "nbconvert_exporter": "python",
   "pygments_lexer": "ipython3",
   "version": "3.6.8"
  }
 },
 "nbformat": 4,
 "nbformat_minor": 2
}
